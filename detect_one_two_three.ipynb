{
 "cells": [
  {
   "cell_type": "markdown",
   "metadata": {},
   "source": [
    "# Get the cmd path"
   ]
  },
  {
   "cell_type": "code",
   "execution_count": null,
   "metadata": {},
   "outputs": [],
   "source": [
    "import os\n",
    "HOME = os.getcwd()\n",
    "print(HOME)"
   ]
  },
  {
   "cell_type": "markdown",
   "metadata": {},
   "source": [
    "# Install"
   ]
  },
  {
   "cell_type": "code",
   "execution_count": null,
   "metadata": {},
   "outputs": [],
   "source": [
    "!pip install -q git+https://github.com/THU-MIG/yolov10.git\n",
    "!pip install -q supervision roboflow\n",
    "!conda install -c huggingface huggingface_hub -y"
   ]
  },
  {
   "cell_type": "code",
   "execution_count": null,
   "metadata": {},
   "outputs": [],
   "source": [
    "!mkdir -p {HOME}/weights\n",
    "!wget -P {HOME}/weights -q https://github.com/THU-MIG/yolov10/releases/download/v1.1/yolov10n.pt\n",
    "!wget -P {HOME}/weights -q https://github.com/THU-MIG/yolov10/releases/download/v1.1/yolov10s.pt\n",
    "!wget -P {HOME}/weights -q https://github.com/THU-MIG/yolov10/releases/download/v1.1/yolov10m.pt\n",
    "!wget -P {HOME}/weights -q https://github.com/THU-MIG/yolov10/releases/download/v1.1/yolov10b.pt\n",
    "!wget -P {HOME}/weights -q https://github.com/THU-MIG/yolov10/releases/download/v1.1/yolov10x.pt\n",
    "!wget -P {HOME}/weights -q https://github.com/THU-MIG/yolov10/releases/download/v1.1/yolov10l.pt\n",
    "!ls -lh {HOME}/weights"
   ]
  },
  {
   "cell_type": "code",
   "execution_count": null,
   "metadata": {},
   "outputs": [],
   "source": [
    "!mkdir -p {HOME}/data\n",
    "!wget -P {HOME}/data -q https://media.roboflow.com/notebooks/examples/dog.jpeg\n",
    "!ls -lh {HOME}/data"
   ]
  },
  {
   "cell_type": "markdown",
   "metadata": {},
   "source": [
    "# Inference"
   ]
  },
  {
   "cell_type": "code",
   "execution_count": null,
   "metadata": {},
   "outputs": [],
   "source": [
    "import cv2\n",
    "from ultralytics import YOLOv10\n",
    "\n",
    "## pretrained model\n",
    "# model = YOLOv10(f'{HOME}/weights/yolov10n.pt')\n",
    "# results = model(source=f'{HOME}/data/dog.jpeg', conf=0.25)\n",
    "\n",
    "## custom model\n",
    "model = YOLOv10(f'{HOME}/runs/detect/train13/weights/best.pt')\n",
    "image = cv2.imread(f'/path/to/testMenu.jpg')\n",
    "results = model(image)[0]"
   ]
  },
  {
   "cell_type": "code",
   "execution_count": null,
   "metadata": {},
   "outputs": [],
   "source": [
    "## Get results (boxes, labels)\n",
    "results.boxes\n",
    "# results[0].boxes.xyxy\n",
    "# results[0].boxes.cls"
   ]
  },
  {
   "cell_type": "markdown",
   "metadata": {},
   "source": [
    "## Draw out the annotated image"
   ]
  },
  {
   "cell_type": "code",
   "execution_count": null,
   "metadata": {},
   "outputs": [],
   "source": [
    "import cv2\n",
    "import supervision as sv\n",
    "from ultralytics import YOLOv10\n",
    "\n",
    "model = YOLOv10(f'{HOME}/runs/detect/train13/weights/best.pt')\n",
    "image = cv2.imread(f'/path/to/testMenu.jpg')\n",
    "results = model(image)[0]\n",
    "detections = sv.Detections.from_ultralytics(results)\n",
    "\n",
    "bounding_box_annotator = sv.BoundingBoxAnnotator(thickness=1)\n",
    "label_annotator = sv.LabelAnnotator(\n",
    "    text_position=sv.Position.CENTER,\n",
    "    text_scale=0.2,\n",
    "    text_padding=0,\n",
    ")\n",
    "\n",
    "annotated_image = bounding_box_annotator.annotate(\n",
    "    scene=image, detections=detections)\n",
    "\n",
    "for detection_idx in range(len(detections)):\n",
    "    x1, y1, x2, y2 = detections.xyxy[detection_idx].astype(int)\n",
    "    color = (0, 0, 0)\n",
    "    annotated_image = cv2.rectangle(\n",
    "        img=annotated_image,\n",
    "        pt1=(x1, y1),\n",
    "        pt2=(x2, y2),\n",
    "        color=color,\n",
    "        thickness=-1,\n",
    "    )\n",
    "\n",
    "annotated_image = label_annotator.annotate(\n",
    "    scene=annotated_image, detections=detections)\n",
    "\n",
    "sv.plot_image(annotated_image)"
   ]
  }
 ],
 "metadata": {
  "language_info": {
   "name": "python"
  }
 },
 "nbformat": 4,
 "nbformat_minor": 2
}
